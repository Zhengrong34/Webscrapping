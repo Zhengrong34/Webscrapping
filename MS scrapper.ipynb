{
 "cells": [
  {
   "cell_type": "code",
   "execution_count": 84,
   "metadata": {},
   "outputs": [],
   "source": [
    "\n",
    "webdriver_path = r\"C:\\Users\\Zheng_\\Desktop\\chrome-driver\\chromedriver.exe\"\n",
    "limit = 500"
   ]
  },
  {
   "cell_type": "code",
   "execution_count": 85,
   "metadata": {},
   "outputs": [
    {
     "name": "stdout",
     "output_type": "stream",
     "text": [
      "Starting to Scroll to Bottom of Page\n",
      "Done\n",
      "312  unique pages returned 312  total page check  True\n",
      "{'Belmont Lay': {'art_count': 90, 'length_total': 30352}, 'Jonathan Lim': {'art_count': 16, 'length_total': 6390}, 'Martino Tan': {'art_count': 16, 'length_total': 6782}, 'Tan Xing Qi': {'art_count': 14, 'length_total': 5471}, 'Corrinne May': {'art_count': 3, 'length_total': 2199}, 'He Ruiming': {'art_count': 7, 'length_total': 3646}, 'Sharmaine Chan': {'art_count': 1, 'length_total': 540}, 'Mandy How': {'art_count': 21, 'length_total': 7051}, 'Fasiha Nazren': {'art_count': 1, 'length_total': 355}, 'Olivia Lin': {'art_count': 5, 'length_total': 873}, 'Sponsored': {'art_count': 7, 'length_total': 4435}, 'Sulaiman Daud': {'art_count': 14, 'length_total': 5514}, 'Tanya Ong': {'art_count': 7, 'length_total': 2624}, 'Zhangxin Zheng': {'art_count': 53, 'length_total': 21931}, 'Nyi Nyi Thet': {'art_count': 11, 'length_total': 4087}, 'Darryl Laiu': {'art_count': 1, 'length_total': 0}, 'Jacqueline Wong': {'art_count': 1, 'length_total': 706}, 'Jeanette Tan': {'art_count': 13, 'length_total': 9865}, 'Alden Tan': {'art_count': 3, 'length_total': 1790}, 'Jason Fan': {'art_count': 2, 'length_total': 1141}, 'Joshua Lee': {'art_count': 10, 'length_total': 5346}, 'Kayla Wong': {'art_count': 5, 'length_total': 2726}, 'Henedick Chng': {'art_count': 3, 'length_total': 1820}, 'Gerald Chan': {'art_count': 1, 'length_total': 429}, 'Sally Ong': {'art_count': 4, 'length_total': 1888}, 'Guan Zhen Tan': {'art_count': 8, 'length_total': 3098}, 'Vignesh Louis Naidu': {'art_count': 1, 'length_total': 626}, 'Tsiuwen Yeo': {'art_count': 6, 'length_total': 2665}, 'Ng Yi Shu': {'art_count': 3, 'length_total': 1827}, 'Kintan Andanari': {'art_count': 1, 'length_total': 472}, 'Rachel Ng': {'art_count': 1, 'length_total': 609}, 'Yeo Kaiqi': {'art_count': 1, 'length_total': 407}, 'Pearly Seah': {'art_count': 1, 'length_total': 442}, 'Mothership': {'art_count': 2, 'length_total': 851}, 'Weekender Singapore': {'art_count': 2, 'length_total': 851}, 'Matthias Ang': {'art_count': 2, 'length_total': 804}, 'Hu Ching': {'art_count': 2, 'length_total': 1232}, 'Wayne Chan': {'art_count': 1, 'length_total': 1470}, 'Daniel Ho': {'art_count': 2, 'length_total': 1008}, 'Jaclynn Seah': {'art_count': 1, 'length_total': 581}}\n",
      "Done\n"
     ]
    }
   ],
   "source": [
    "from selenium import webdriver\n",
    "from time import sleep\n",
    "from bs4 import BeautifulSoup\n",
    "from selenium import webdriver\n",
    "from selenium.webdriver.common.by import By\n",
    "from selenium.webdriver.support.ui import WebDriverWait\n",
    "from selenium.webdriver.support import expected_conditions as EC\n",
    "from urllib.request import urlopen\n",
    "\n",
    "driver = webdriver.Chrome(webdriver_path)\n",
    "driver.get('https://mothership.sg/?s=')\n",
    "query = \"Otter\"\n",
    "search_bar = driver.find_element_by_xpath('//input[@name=\"s\"]')\n",
    "search_bar.send_keys(query)\n",
    "search_bar.submit()\n",
    "print('Starting to Scroll to Bottom of Page')\n",
    "SCROLL_PAUSE_TIME = 2\n",
    "# Get scroll height\n",
    "total_pages = 0\n",
    "last_height = driver.execute_script(\"return document.body.scrollHeight\")\n",
    "page_list = []\n",
    "while True:\n",
    "    # Scroll down to bottom\n",
    "    \"\"\"\n",
    "    #element = wait.until(EC.element_to_be_clickable((By.ID, 'load-more')))\n",
    "    #element.click()\n",
    "    \"\"\"\n",
    "    if driver.find_element_by_id('load-more').is_displayed():\n",
    "        total_pages += 15\n",
    "        x = driver.find_element_by_id('load-more')\n",
    "        x.click()\n",
    "        sleep(2)\n",
    "    driver.execute_script(\"window.scrollTo(0, document.body.scrollHeight);\")\n",
    "        \n",
    "    \n",
    "    sleep(SCROLL_PAUSE_TIME)\n",
    "    # Wait to load page\n",
    "        # Calculate new scroll height and compare with last scroll height\n",
    "    new_height = driver.execute_script(\"return document.body.scrollHeight\")\n",
    "    if new_height == last_height or total_pages >limit:\n",
    "        break\n",
    "    last_height = new_height \n",
    "\n",
    "elems = driver.find_elements_by_xpath(\"//a[@class='heres-more-link']\")\n",
    "total_pages_check = 0\n",
    "for i in elems:\n",
    "    total_pages_check += 1\n",
    "    page_list.append(i.get_attribute(\"href\"))\n",
    "\n",
    "print('Done')\n",
    "print(len(set(page_list)), \" unique pages returned\", total_pages_check,\" total page check \", len(set(page_list)) == total_pages_check )\n",
    "page_list = list(set(page_list))\n",
    "author = {}\n",
    "\n",
    "\n",
    "\n",
    "for html in page_list:\n",
    "    html = urlopen(html)\n",
    "    soup = BeautifulSoup(html, 'html.parser')\n",
    "    article_words = []\n",
    "    for i in soup.find_all(\"span\",{\"class\":\"author-name\"}):\n",
    "        j = i.getText()\n",
    "        if j not in author:\n",
    "            author[j] = {\"art_count\": 1, \"length_total\" : 0}\n",
    "        else:\n",
    "            author[j][\"art_count\"]+=1\n",
    "            \n",
    "    for text in soup.find_all(\"p\"):\n",
    "        text=text.getText()\n",
    "        text = text.split()\n",
    "        article_words.extend(text)\n",
    "        \n",
    "    article_length=len(set(article_words))\n",
    "    author[j][\"length_total\"] += article_length\n",
    "        \n",
    "print(author)\n",
    "print('Done')"
   ]
  },
  {
   "cell_type": "code",
   "execution_count": 59,
   "metadata": {},
   "outputs": [
    {
     "data": {
      "text/plain": [
       "90"
      ]
     },
     "execution_count": 59,
     "metadata": {},
     "output_type": "execute_result"
    }
   ],
   "source": []
  },
  {
   "cell_type": "code",
   "execution_count": null,
   "metadata": {},
   "outputs": [],
   "source": []
  }
 ],
 "metadata": {
  "kernelspec": {
   "display_name": "Python 3",
   "language": "python",
   "name": "python3"
  },
  "language_info": {
   "codemirror_mode": {
    "name": "ipython",
    "version": 3
   },
   "file_extension": ".py",
   "mimetype": "text/x-python",
   "name": "python",
   "nbconvert_exporter": "python",
   "pygments_lexer": "ipython3",
   "version": "3.6.5"
  }
 },
 "nbformat": 4,
 "nbformat_minor": 2
}
